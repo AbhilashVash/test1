 

from test 1 import prime_number as p
p(17)
from time import time
def time_io(fn):
    def set1(*args):
        start_time=time()
        fn(*args)
        end_time=time()
        print("time took for {} m\s".format(end_time-start_time))
From test1 import cal
from time import time